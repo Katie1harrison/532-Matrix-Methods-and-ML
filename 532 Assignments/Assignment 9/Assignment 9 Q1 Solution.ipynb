{
 "cells": [
  {
   "cell_type": "markdown",
   "metadata": {},
   "source": [
    "## Question 1a.)  \n",
    "\n",
    "this is the kernel classifier."
   ]
  },
  {
   "cell_type": "code",
   "execution_count": 3,
   "metadata": {},
   "outputs": [],
   "source": [
    "import numpy as np\n",
    "import matplotlib.pyplot as plt\n",
    "from scipy.io import loadmat\n",
    "dataset = loadmat('face_emotion_data.mat')\n",
    "\n",
    "X, y = dataset['X'], dataset['y']\n",
    "n, p = np.shape(X)\n",
    "\n",
    "X = np.hstack((np.ones((n,1)), X))  # append a column of ones\n",
    "\n",
    "\n",
    "\n",
    "def kernel_class():\n",
    "    sigmas = []\n",
    "    error_rates = []\n",
    "    for sigma in np.linspace(0.1, 30, 100):\n",
    "        sigmas.append(sigma)\n",
    "        distsq=np.zeros((n,n),dtype=float)\n",
    "    \n",
    "        for i in range(0,n):\n",
    "            for j in range(0,n):\n",
    "                d = np.linalg.norm(X[i,:]-X[j,:])\n",
    "                distsq[i,j]=d**2\n",
    "\n",
    "        K = np.exp(-distsq/(2*sigma**2))\n",
    "\n",
    "        alpha = np.linalg.inv(K+.5*np.identity(n))@y\n",
    "\n",
    "        prediction = np.sign(K@alpha)\n",
    "        #     print(\"this is y\",y)\n",
    "        #     print(\"this is the prediction vecotr\",prediction)\n",
    "        error_vec = [0 if i[0]==i[1] else 1 for i in np.hstack((y,prediction))]\n",
    "\n",
    "        error_rates.append(str(100*sum(error_vec)/len(error_vec)))\n",
    "    return(sigmas,error_rates)"
   ]
  },
  {
   "cell_type": "markdown",
   "metadata": {},
   "source": [
    "## Question 1b.)\n",
    "\n",
    "we don't achive 0% error but we do get close (about 98%) what I thought was interesting is the error rate seems to increse in increments of sigma values. for example all the sigmas from 2 to 8 have the same error as do 11-15 and 22-27. also there's an odd jump in error when lamba is close to 28 in value."
   ]
  },
  {
   "cell_type": "code",
   "execution_count": 4,
   "metadata": {},
   "outputs": [
    {
     "data": {
      "image/png": "[encoded data removed]",
      "text/plain": [
       "<Figure size 432x288 with 1 Axes>"
      ]
     },
     "metadata": {
      "needs_background": "light"
     },
     "output_type": "display_data"
    }
   ],
   "source": [
    "import matplotlib.pyplot as plt\n",
    "\n",
    "\n",
    "plt.scatter(kernel_class()[0], kernel_class()[1])\n",
    "\n",
    "\n",
    "plt.title('Error Rate and Sigma Gaussian Kernel Binary Classification')\n",
    "# plt.legend(loc='lower right')\n",
    "plt.xlabel('σ sigma value')\n",
    "plt.ylabel('error rate %')\n",
    "plt.show()\n"
   ]
  },
  {
   "cell_type": "markdown",
   "metadata": {},
   "source": [
    "## Question 1c.) \n"
   ]
  },
  {
   "cell_type": "code",
   "execution_count": 22,
   "metadata": {},
   "outputs": [],
   "source": [
    "def kernel_class_kfold():\n",
    "    error_rates_per_sig = []\n",
    "    sigmas = []\n",
    "    for sigma in np.linspace(0.1, 30, 100):\n",
    "        sigmas.append(sigma)\n",
    "        error_rates = []\n",
    "        for j in range(8):\n",
    "            \n",
    "            test_idx = np.arange(j*16,(j+1)*16)\n",
    "            train_idx = np.setdiff1d(np.arange(128),test_idx)\n",
    "\n",
    "            X_train, y_train = X[train_idx,:], y[train_idx,:]\n",
    "            X_test, y_test = X[test_idx,:], y[test_idx,:]\n",
    "\n",
    "            #creating K and alpha using training data\n",
    "            train_distsq=np.zeros((X_train.shape[0],X_train.shape[0]),dtype=float)\n",
    "            \n",
    "            for i in range(0,112):\n",
    "                for j in range(0,112):\n",
    "                    d = np.linalg.norm(X_train[i,:]-X_train[j,:])\n",
    "                    train_distsq[i,j]=d**2\n",
    "\n",
    "            K = np.exp(-train_distsq/(2*sigma**2))\n",
    "\n",
    "            alpha = np.linalg.inv(K+.5*np.identity(112))@y_train\n",
    "            \n",
    "            \n",
    "            #creating a K using the testing data\n",
    "            test_distsq=np.zeros((X_test.shape[0],X_train.shape[0]),dtype=float)\n",
    "            \n",
    "            for i in range(0,16):\n",
    "                for j in range(0,112):\n",
    "                    d = np.linalg.norm(X_test[i,:]-X_train[j,:])\n",
    "                    test_distsq[i,j]=d**2\n",
    "            K_test = np.exp(-test_distsq/(2*sigma**2))\n",
    "            \n",
    "            \n",
    "            # measuring the accuracy of our model using K_test and alpha\n",
    "            prediction = np.sign(K_test@alpha)\n",
    "            \n",
    "            #for a given sigma value and data set, it compares the 16points in the test_y to the actual value. \n",
    "            #if they match we get a 1 and if they don't we get a zero \n",
    "            #(in total you have 8 error vectors that have len 16 for every sigma)\n",
    "            error_vec = [0 if i[0]==i[1] else 1 for i in np.hstack((y_test,prediction))]\n",
    "#             print(\"this is the error_vector\",error_vec)\n",
    "            \n",
    "    \n",
    "            #the average number of error per data set given a sigma value (1 by 8) \n",
    "            #there is an error_vec for every sigma\n",
    "            error_rates.append((100*sum(error_vec)/len(error_vec)))\n",
    "#         print(\"error rates mean\",error_rates)\n",
    "        \n",
    "        \n",
    "        # getting the average number of errors across the 8 data sets given a sigma \n",
    "        error_rates_per_sig.append(np.mean(error_rates))\n",
    "    \n",
    "    \n",
    "    \n",
    "    \n",
    "    return sigmas,error_rates_per_sig\n",
    "\n",
    "\n"
   ]
  },
  {
   "cell_type": "code",
   "execution_count": 23,
   "metadata": {},
   "outputs": [
    {
     "data": {
      "image/png": "[encoded data removed]",
      "text/plain": [
       "<Figure size 432x288 with 1 Axes>"
      ]
     },
     "metadata": {
      "needs_background": "light"
     },
     "output_type": "display_data"
    }
   ],
   "source": [
    "import matplotlib.pyplot as plt\n",
    "\n",
    "\n",
    "plt.scatter(kernel_class_kfold()[0], kernel_class_kfold()[1])\n",
    "\n",
    "\n",
    "plt.title('8-fold Sigma Classification error rate')\n",
    "# plt.legend(loc='lower right')\n",
    "plt.xlabel('σ sigma value')\n",
    "plt.ylabel('average error rate %')\n",
    "plt.show()\n"
   ]
  },
  {
   "cell_type": "code",
   "execution_count": null,
   "metadata": {},
   "outputs": [],
   "source": []
  }
 ],
 "metadata": {
  "kernelspec": {
   "display_name": "Python 3 (ipykernel)",
   "language": "python",
   "name": "python3"
  },
  "language_info": {
   "codemirror_mode": {
    "name": "ipython",
    "version": 3
   },
   "file_extension": ".py",
   "mimetype": "text/x-python",
   "name": "python",
   "nbconvert_exporter": "python",
   "pygments_lexer": "ipython3",
   "version": "3.10.5"
  }
 },
 "nbformat": 4,
 "nbformat_minor": 2
}
