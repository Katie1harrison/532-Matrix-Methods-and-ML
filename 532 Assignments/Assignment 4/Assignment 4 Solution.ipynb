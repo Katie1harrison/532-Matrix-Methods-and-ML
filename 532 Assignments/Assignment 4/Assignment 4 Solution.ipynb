{
 "cells": [
  {
   "cell_type": "code",
   "execution_count": 2,
   "id": "dd7533fc",
   "metadata": {
    "scrolled": true
   },
   "outputs": [],
   "source": [
    "import numpy as np\n",
    "from scipy.io import loadmat\n",
    "import matplotlib.pyplot as plt \n",
    "\n",
    "in_data = loadmat('face_emotion_data.mat')\n",
    "y_labels = in_data['y'] \n",
    "X_data = in_data[\"X\"]\n"
   ]
  },
  {
   "cell_type": "markdown",
   "id": "551fd771",
   "metadata": {},
   "source": [
    "## 1a).\n"
   ]
  },
  {
   "cell_type": "code",
   "execution_count": 3,
   "id": "0c8ac3a6",
   "metadata": {},
   "outputs": [
    {
     "data": {
      "text/plain": [
       "array([[ 0.94366942],\n",
       "       [ 0.21373778],\n",
       "       [ 0.26641775],\n",
       "       [-0.39221373],\n",
       "       [-0.00538552],\n",
       "       [-0.01764687],\n",
       "       [-0.16632809],\n",
       "       [-0.0822838 ],\n",
       "       [-0.16644364]])"
      ]
     },
     "execution_count": 3,
     "metadata": {},
     "output_type": "execute_result"
    }
   ],
   "source": [
    "w_all = np.linalg.inv(X_data.transpose()@X_data)@X_data.transpose()@y_labels\n",
    "w_all"
   ]
  },
  {
   "cell_type": "markdown",
   "id": "8cf0208a",
   "metadata": {},
   "source": [
    "## 1b.)\n",
    "\n",
    "what I would do is multiply a new image's column transposed by the w column. if the scalar value of the two vectors product was positive I'd classify the image as happy and if it was negative, I'd classify it as sad."
   ]
  },
  {
   "cell_type": "markdown",
   "id": "84396451",
   "metadata": {},
   "source": [
    "## 1c.)\n",
    "the $w_0, w_2, \\text{and } w_3 $ are most important as they have magnitudes closest to 1"
   ]
  },
  {
   "cell_type": "markdown",
   "id": "501c50de",
   "metadata": {},
   "source": [
    "## 1d.) \n",
    "I chose the features 0, 2, and 3 because they affect the score the most. how I created the classifier was by first selecting the desired columns from my matrix of data X, then I let that be the new X in the least squares problem minw |Xw-y| "
   ]
  },
  {
   "cell_type": "code",
   "execution_count": 4,
   "id": "509447be",
   "metadata": {},
   "outputs": [
    {
     "data": {
      "text/plain": [
       "array([[ 0.70546316],\n",
       "       [ 0.8737872 ],\n",
       "       [-0.78805643]])"
      ]
     },
     "execution_count": 4,
     "metadata": {},
     "output_type": "execute_result"
    }
   ],
   "source": [
    "X_data_best = X_data[:, [0, 2,3]]\n",
    "w_best = np.linalg.inv(X_data_best.transpose()@X_data_best)@X_data_best.transpose()@y_labels\n",
    "w_best"
   ]
  },
  {
   "cell_type": "markdown",
   "id": "0763c17e",
   "metadata": {},
   "source": [
    "## 1e.)\n",
    "\n",
    "What percent of the training labels are incorrectly classified using all nine fea-tures? What percent of the training labels are incorrectly classified using your reduced set of three features?"
   ]
  },
  {
   "cell_type": "code",
   "execution_count": 9,
   "id": "123530d3",
   "metadata": {},
   "outputs": [
    {
     "name": "stdout",
     "output_type": "stream",
     "text": [
      "% error from all 9 features =2.34375%\n",
      "% error from best 3 features =6.25%\n"
     ]
    }
   ],
   "source": [
    "y_w_all = np.sign(X_data@w_all)\n",
    "y_w_best = np.sign(X_data_best@w_best)\n",
    "\n",
    "error_vec_all = [0 if i[0]==i[1] else 1 for i in np.hstack((y_w_all, y_labels))]\n",
    "\n",
    "error_vec_best = [0 if i[0]==i[1] else 1 for i in np.hstack((y_w_best, y_labels))]\n",
    "\n",
    "\n",
    "percent_error_all = (sum(error_vec_all)/len(error_vec_all))\n",
    "\n",
    "percent_error_best = (sum(error_vec_best)/len(error_vec_best))\n",
    "\n",
    "\n",
    "\n",
    "print(f\"% error from all 9 features ={percent_error_all*100}%\")\n",
    "\n",
    "print(f\"% error from best 3 features ={percent_error_best*100}%\")"
   ]
  },
  {
   "cell_type": "markdown",
   "id": "6fa9215a",
   "metadata": {},
   "source": [
    "## 1f.) estimate the average error rate using cross validation"
   ]
  },
  {
   "cell_type": "code",
   "execution_count": 10,
   "id": "e76beba7-d18a-4d78-bba2-69dd23cf8d6a",
   "metadata": {},
   "outputs": [
    {
     "name": "stdout",
     "output_type": "stream",
     "text": [
      "The average % error rate = 4.6875%\n"
     ]
    }
   ],
   "source": [
    "import numpy as np\n",
    "\n",
    "# Reshape data into arrays of shape (n, 16)\n",
    "y_vals = np.array_split(y_labels, 8)\n",
    "X_vals = np.array_split(X_data, 8)\n",
    "\n",
    "# Initialize lists to store error rates\n",
    "error_rates = []\n",
    "\n",
    "for i in range(8):\n",
    "    # Create training and validation sets\n",
    "    y_train = np.concatenate(y_vals[:i] + y_vals[i+1:], axis=0)\n",
    "    X_train = np.concatenate(X_vals[:i] + X_vals[i+1:], axis=0)\n",
    "    y_val = y_vals[i]\n",
    "    X_val = X_vals[i]\n",
    "    \n",
    "    # Calculate weights\n",
    "    w = np.linalg.inv(X_train.transpose() @ X_train) @ X_train.transpose() @ y_train\n",
    "    \n",
    "    # Make predictions on validation set\n",
    "    y_pred = np.sign(X_val @ w)\n",
    "    \n",
    "    # Calculate error vector and error rate\n",
    "    error_vec = [0 if i[0] == i[1] else 1 for i in np.hstack((y_pred, y_val))]\n",
    "    error_rate = sum(error_vec) / len(error_vec)\n",
    "    error_rates.append(error_rate)\n",
    "\n",
    "# Calculate average error rate\n",
    "average_error_rate = sum(error_rates) / len(error_rates)\n",
    "\n",
    "print(f\"The average % error rate = {average_error_rate * 100}%\")\n",
    "\n",
    "\n",
    "#in this cell, I wrote some code and then used chat gpt to clean it up."
   ]
  },
  {
   "cell_type": "code",
   "execution_count": null,
   "id": "2b8ada76-f194-4d3f-aa80-d7bcf13a6838",
   "metadata": {},
   "outputs": [],
   "source": []
  }
 ],
 "metadata": {
  "kernelspec": {
   "display_name": "Python 3 (ipykernel)",
   "language": "python",
   "name": "python3"
  },
  "language_info": {
   "codemirror_mode": {
    "name": "ipython",
    "version": 3
   },
   "file_extension": ".py",
   "mimetype": "text/x-python",
   "name": "python",
   "nbconvert_exporter": "python",
   "pygments_lexer": "ipython3",
   "version": "3.10.5"
  }
 },
 "nbformat": 4,
 "nbformat_minor": 5
}
